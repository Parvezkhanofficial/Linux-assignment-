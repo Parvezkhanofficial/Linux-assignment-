{
  "nbformat": 4,
  "nbformat_minor": 0,
  "metadata": {
    "colab": {
      "provenance": []
    },
    "kernelspec": {
      "name": "python3",
      "display_name": "Python 3"
    },
    "language_info": {
      "name": "python"
    }
  },
  "cells": [
    {
      "cell_type": "markdown",
      "source": [
        "1.What is Linux\n",
        "- Linux is an open-source operating system based on unix.It acts as a  bridge between our computer hardware and softwere you run. like windows  or mac OS linux lets you interact with your computer\n",
        "\n",
        "2.What is the difference between Hard Link & Soft Link\n",
        "- soft link   \n",
        "1. soft link can link to directories and across file system\n",
        "2. soft link points to the file path,like a shortcut\n",
        "3. soft link breaks if the orignal file is deleted\n",
        "\n",
        "- Hard link\n",
        "1. hard link cannot link to directories\n",
        "2. hard link points directly to the files data\n",
        "3. hard link does not break if the orignal file is deleted\n",
        "4. hard link is another name for the same file\n",
        "\n",
        "3.What is a Kernel in Linux\n",
        "- in linux ,kernal is the core part of OS .It manages hardware resources like cpu memory etc.manage processes, device drivers and file systems .kernal like bridge between hardware and sofware\n",
        "\n",
        "4.How do you create a user accountE\n"
      ],
      "metadata": {
        "id": "eL_mhFuNiGDZ"
      }
    },
    {
      "cell_type": "code",
      "execution_count": null,
      "metadata": {
        "id": "6HUQYQFccu1u"
      },
      "outputs": [],
      "source": [
        "#4.How do you create a user accounte\n",
        "# we can create a user acccount using this coammand\n",
        "!sudo useradd -m username\n",
        "#or\n",
        "!sudo useradd -m username\n",
        "!sudo passwd useradd\n",
        "sudo passwd useradd"
      ]
    },
    {
      "cell_type": "markdown",
      "source": [
        "5.What is the 'grep' command used for in Linux\n",
        "- This command is use to search a specific pattern or text in side the file\n"
      ],
      "metadata": {
        "id": "Zppy3sy6u7Lc"
      }
    },
    {
      "cell_type": "code",
      "source": [
        "#6.Step1: Create user p1\n",
        "  #Step2: He should be part of 3 groups g1,g2,g3.\n",
        "  #Step3: whenever he creates a file automatically in the group section of file grp g1 should come\n",
        "\n",
        "#step1\n",
        "sudo useradd -m p1\n",
        "\n",
        "#step2\n",
        "sudo groupadd g1\n",
        "sudo groupadd g2\n",
        "sudo groupadd g3\n",
        "sudo usermod -aG g1,g2,g3 p1\n",
        "\n",
        "#step3\n",
        "sudo usermod -g g1 p1"
      ],
      "metadata": {
        "collapsed": true,
        "id": "ygyvHUFBzfL7"
      },
      "execution_count": null,
      "outputs": []
    },
    {
      "cell_type": "code",
      "source": [
        "#7.step1.create directory /tmp/bg as root user and create files inside it.\n",
        " #Step2: “abhi” should be the owner of the directory. He should be able to create files and delete files inside\n",
        " #the directory and also he should be able to add content to all files inside the directory\n",
        "\n",
        "sudo mkdir /tmp/bg\n",
        "sudo touch /tmp/bg/file1 /tmp/bg/file2 /tmp/bg/file3  # Create simple files\n",
        "\n",
        "sudo chown abhi:abhi /tmp/bg  # Change owner of the directory\n",
        "sudo chmod u+rwx /tmp/bg  # Ensure \"abhi\" has full permissions on the directory\n",
        "sudo chmod -R u+rw /tmp/bg  # Allow \"abhi\" to read/write all files inside the directory"
      ],
      "metadata": {
        "id": "hw4FUXM4tKTF"
      },
      "execution_count": null,
      "outputs": []
    },
    {
      "cell_type": "markdown",
      "source": [
        "8.- You suspect that a particular process is consuming excessive CPU resources on your Linux server. How would you identify and terminate this process?\n",
        "\n",
        "- Using top or htop coammand we can see which processes consuming a high percentage of CPU. The PID will be listed in the first column\n",
        "then we can terminate that processes using this command\n",
        "> sudo kill [pid]\n",
        "or\n",
        ">sudo kill -9 [pid]  for forcefully kill the processes"
      ],
      "metadata": {
        "id": "RhseozhAAyRU"
      }
    }
  ]
}